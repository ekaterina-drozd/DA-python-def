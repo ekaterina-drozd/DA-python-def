{
  "cells": [
    {
      "cell_type": "code",
      "execution_count": 12,
      "metadata": {
        "id": "xDw-NgSfqyZ5"
      },
      "outputs": [],
      "source": [
        "import requests\n",
        "from urllib.parse import urlencode\n",
        "import pandas as pd\n",
        "import matplotlib.pyplot as plt\n",
        "\n",
        "import warnings\n",
        "warnings.filterwarnings(\"ignore\")"
      ]
    },
    {
      "cell_type": "markdown",
      "source": [
        "## 1. Функция для получения датафреймов по ссылкам\n",
        "\n",
        "Для начала создадим функцию, получающую на вход список ссылок на файлы и выдающую url этих файлов, которые мы в дальнейшем будем использовать для чтения датафреймов."
      ],
      "metadata": {
        "id": "4hGb3kRxrS5e"
      }
    },
    {
      "cell_type": "code",
      "source": [
        "def get_urls (links):\n",
        "    base_url = 'https://cloud-api.yandex.net/v1/disk/public/resources/download?'\n",
        "    urls = []\n",
        "    for i in links:\n",
        "        final_url = base_url + urlencode(dict(public_key = i))\n",
        "        response = requests.get(final_url)\n",
        "        download_url = response.json()['href']\n",
        "        urls.append(download_url)\n",
        "    return(urls)"
      ],
      "metadata": {
        "id": "snRDq6_0rLhp"
      },
      "execution_count": 13,
      "outputs": []
    },
    {
      "cell_type": "code",
      "source": [
        "#создаем список ссылок, который будем передавать в функцию\n",
        "groups_link = 'https://disk.yandex.ru/d/UhyYx41rTt3clQ'\n",
        "group_add_link = 'https://disk.yandex.ru/d/5Kxrz02m3IBUwQ'\n",
        "active_studs_link = 'https://disk.yandex.ru/d/Tbs44Bm6H_FwFQ'\n",
        "checks_link = 'https://disk.yandex.ru/d/pH1q-VqcxXjsVA'\n",
        "all_links = [groups_link, group_add_link, active_studs_link, checks_link]"
      ],
      "metadata": {
        "id": "OrWKmJferWDc"
      },
      "execution_count": 14,
      "outputs": []
    },
    {
      "cell_type": "code",
      "source": [
        "#применяем функцию и сохраняем ссылки в отдельную переменную\n",
        "urls = get_urls(all_links)"
      ],
      "metadata": {
        "id": "Bg4Rbb-rrYwS"
      },
      "execution_count": 15,
      "outputs": []
    },
    {
      "cell_type": "code",
      "source": [
        "groups = pd.read_csv(urls[0], sep=';')\n",
        "groups_add = pd.read_csv(urls[1], sep=',')\n",
        "active_studs = pd.read_csv(urls[2], sep=',')\n",
        "checks = pd.read_csv(urls[3], sep=';')"
      ],
      "metadata": {
        "id": "VtLe3JT6rfQB"
      },
      "execution_count": 16,
      "outputs": []
    },
    {
      "cell_type": "markdown",
      "metadata": {
        "id": "42qhKiKLqyal"
      },
      "source": [
        "## 2. Функция для подсчета метрик\n",
        "\n",
        "Реализуйте функцию, которая будет автоматически подгружать информацию из дополнительного файла groups_add.csv (заголовки могут отличаться) и на основании дополнительных параметров пересчитывать метрики."
      ]
    },
    {
      "cell_type": "markdown",
      "metadata": {
        "id": "MWTYkVHAqyal"
      },
      "source": [
        "- Функция получает на вход 4 дф: информация о студентах и группах, доп набор студентов, информация об активности и об оплате\n",
        "- Переименовываем столбцы, добавляем столбцы-маркеры оплаты и активности\n",
        "- Мерджим все дф в один\n",
        "- создаем результирующий дф, группируем данные по группам (А и В)\n",
        "- считаем кол-во уникальных студентов, кол-во активных студентов, кол-во оплат и сумму оплат\n",
        "- считаем метрики ARPPU, AOV, ARPU, CR\n",
        "- возвращаем результирующую таблицу"
      ]
    },
    {
      "cell_type": "code",
      "execution_count": 17,
      "metadata": {
        "id": "WXNQeVhPqyal"
      },
      "outputs": [],
      "source": [
        "def table_metrics (groups, groups_add, active_studs, checks):\n",
        "    active_studs = active_studs.rename(columns = {'student_id' : 'id'})\n",
        "    checks = checks.rename(columns = {'student_id' : 'id'})\n",
        "    active_studs['activity'] = 1\n",
        "    checks['payment'] = 1\n",
        "\n",
        "    all_groups = pd.concat([groups, groups_add])\n",
        "    full_df = all_groups.merge(active_studs, on = 'id', how='left').fillna(0)\\\n",
        "                    .merge(checks, on = 'id', how='left').fillna(0)\n",
        "\n",
        "\n",
        "    result_table = full_df.groupby('grp', as_index = False)\\\n",
        "        .agg({'id' : 'nunique',\n",
        "          'activity' : 'sum',\n",
        "          'payment' : 'sum',\n",
        "          'rev' : 'sum'})\\\n",
        "        .rename(columns = {'id' : 'n_of_students',\n",
        "                       'activity' : 'active_students',\n",
        "                       'payment' : 'n_of_payments',\n",
        "                      'rev' : 'sum_of_payments',})\n",
        "\n",
        "    result_table['ARPPU'] = (full_df.query('activity == 1 and payment == 1').groupby('grp', as_index = False).rev.sum().rev/\n",
        "                    full_df.query('activity == 1  and payment == 1').groupby('grp', as_index = False).id.nunique().id).round(2)\n",
        "    result_table['AOV'] = (full_df.query('activity == 1 and payment == 1').groupby('grp', as_index = False).rev.sum().rev/\n",
        "                    full_df.query('activity == 1  and payment == 1').groupby('grp', as_index = False).id.count().id).round(2)\n",
        "    result_table['ARPU'] = (full_df.query('activity == 1').groupby('grp', as_index = False).rev.sum().rev/\n",
        "                    full_df.query('activity == 1').groupby('grp', as_index = False).id.count().id).round(2)\n",
        "    result_table['CR']= (full_df.query('activity == 1 and payment == 1').groupby('grp', as_index = False).id.nunique().id/\n",
        "        full_df.query('activity == 1').groupby('grp', as_index = False).id.nunique().id * 100).round(2)\n",
        "\n",
        "    return result_table"
      ]
    },
    {
      "cell_type": "code",
      "execution_count": 18,
      "metadata": {
        "colab": {
          "base_uri": "https://localhost:8080/",
          "height": 131
        },
        "id": "uKpyP2aJqyal",
        "outputId": "2f3049c9-f5b9-4751-ac71-bc4b4a1f3ee1"
      },
      "outputs": [
        {
          "output_type": "execute_result",
          "data": {
            "text/plain": [
              "  grp  n_of_students  active_students  n_of_payments  sum_of_payments  \\\n",
              "0   A          14693           1538.0          107.0       92096.0000   \n",
              "1   B          59883           6803.0          434.0      481230.0036   \n",
              "\n",
              "     ARPPU      AOV   ARPU    CR  \n",
              "0   933.59   933.59  47.35  5.07  \n",
              "1  1257.88  1257.88  58.06  4.62  "
            ],
            "text/html": [
              "\n",
              "  <div id=\"df-60a59119-d925-408d-b13c-335612f3a452\" class=\"colab-df-container\">\n",
              "    <div>\n",
              "<style scoped>\n",
              "    .dataframe tbody tr th:only-of-type {\n",
              "        vertical-align: middle;\n",
              "    }\n",
              "\n",
              "    .dataframe tbody tr th {\n",
              "        vertical-align: top;\n",
              "    }\n",
              "\n",
              "    .dataframe thead th {\n",
              "        text-align: right;\n",
              "    }\n",
              "</style>\n",
              "<table border=\"1\" class=\"dataframe\">\n",
              "  <thead>\n",
              "    <tr style=\"text-align: right;\">\n",
              "      <th></th>\n",
              "      <th>grp</th>\n",
              "      <th>n_of_students</th>\n",
              "      <th>active_students</th>\n",
              "      <th>n_of_payments</th>\n",
              "      <th>sum_of_payments</th>\n",
              "      <th>ARPPU</th>\n",
              "      <th>AOV</th>\n",
              "      <th>ARPU</th>\n",
              "      <th>CR</th>\n",
              "    </tr>\n",
              "  </thead>\n",
              "  <tbody>\n",
              "    <tr>\n",
              "      <th>0</th>\n",
              "      <td>A</td>\n",
              "      <td>14693</td>\n",
              "      <td>1538.0</td>\n",
              "      <td>107.0</td>\n",
              "      <td>92096.0000</td>\n",
              "      <td>933.59</td>\n",
              "      <td>933.59</td>\n",
              "      <td>47.35</td>\n",
              "      <td>5.07</td>\n",
              "    </tr>\n",
              "    <tr>\n",
              "      <th>1</th>\n",
              "      <td>B</td>\n",
              "      <td>59883</td>\n",
              "      <td>6803.0</td>\n",
              "      <td>434.0</td>\n",
              "      <td>481230.0036</td>\n",
              "      <td>1257.88</td>\n",
              "      <td>1257.88</td>\n",
              "      <td>58.06</td>\n",
              "      <td>4.62</td>\n",
              "    </tr>\n",
              "  </tbody>\n",
              "</table>\n",
              "</div>\n",
              "    <div class=\"colab-df-buttons\">\n",
              "\n",
              "  <div class=\"colab-df-container\">\n",
              "    <button class=\"colab-df-convert\" onclick=\"convertToInteractive('df-60a59119-d925-408d-b13c-335612f3a452')\"\n",
              "            title=\"Convert this dataframe to an interactive table.\"\n",
              "            style=\"display:none;\">\n",
              "\n",
              "  <svg xmlns=\"http://www.w3.org/2000/svg\" height=\"24px\" viewBox=\"0 -960 960 960\">\n",
              "    <path d=\"M120-120v-720h720v720H120Zm60-500h600v-160H180v160Zm220 220h160v-160H400v160Zm0 220h160v-160H400v160ZM180-400h160v-160H180v160Zm440 0h160v-160H620v160ZM180-180h160v-160H180v160Zm440 0h160v-160H620v160Z\"/>\n",
              "  </svg>\n",
              "    </button>\n",
              "\n",
              "  <style>\n",
              "    .colab-df-container {\n",
              "      display:flex;\n",
              "      gap: 12px;\n",
              "    }\n",
              "\n",
              "    .colab-df-convert {\n",
              "      background-color: #E8F0FE;\n",
              "      border: none;\n",
              "      border-radius: 50%;\n",
              "      cursor: pointer;\n",
              "      display: none;\n",
              "      fill: #1967D2;\n",
              "      height: 32px;\n",
              "      padding: 0 0 0 0;\n",
              "      width: 32px;\n",
              "    }\n",
              "\n",
              "    .colab-df-convert:hover {\n",
              "      background-color: #E2EBFA;\n",
              "      box-shadow: 0px 1px 2px rgba(60, 64, 67, 0.3), 0px 1px 3px 1px rgba(60, 64, 67, 0.15);\n",
              "      fill: #174EA6;\n",
              "    }\n",
              "\n",
              "    .colab-df-buttons div {\n",
              "      margin-bottom: 4px;\n",
              "    }\n",
              "\n",
              "    [theme=dark] .colab-df-convert {\n",
              "      background-color: #3B4455;\n",
              "      fill: #D2E3FC;\n",
              "    }\n",
              "\n",
              "    [theme=dark] .colab-df-convert:hover {\n",
              "      background-color: #434B5C;\n",
              "      box-shadow: 0px 1px 3px 1px rgba(0, 0, 0, 0.15);\n",
              "      filter: drop-shadow(0px 1px 2px rgba(0, 0, 0, 0.3));\n",
              "      fill: #FFFFFF;\n",
              "    }\n",
              "  </style>\n",
              "\n",
              "    <script>\n",
              "      const buttonEl =\n",
              "        document.querySelector('#df-60a59119-d925-408d-b13c-335612f3a452 button.colab-df-convert');\n",
              "      buttonEl.style.display =\n",
              "        google.colab.kernel.accessAllowed ? 'block' : 'none';\n",
              "\n",
              "      async function convertToInteractive(key) {\n",
              "        const element = document.querySelector('#df-60a59119-d925-408d-b13c-335612f3a452');\n",
              "        const dataTable =\n",
              "          await google.colab.kernel.invokeFunction('convertToInteractive',\n",
              "                                                    [key], {});\n",
              "        if (!dataTable) return;\n",
              "\n",
              "        const docLinkHtml = 'Like what you see? Visit the ' +\n",
              "          '<a target=\"_blank\" href=https://colab.research.google.com/notebooks/data_table.ipynb>data table notebook</a>'\n",
              "          + ' to learn more about interactive tables.';\n",
              "        element.innerHTML = '';\n",
              "        dataTable['output_type'] = 'display_data';\n",
              "        await google.colab.output.renderOutput(dataTable, element);\n",
              "        const docLink = document.createElement('div');\n",
              "        docLink.innerHTML = docLinkHtml;\n",
              "        element.appendChild(docLink);\n",
              "      }\n",
              "    </script>\n",
              "  </div>\n",
              "\n",
              "\n",
              "<div id=\"df-749d2d8a-1c33-45e6-85c6-ef49158f5f2a\">\n",
              "  <button class=\"colab-df-quickchart\" onclick=\"quickchart('df-749d2d8a-1c33-45e6-85c6-ef49158f5f2a')\"\n",
              "            title=\"Suggest charts\"\n",
              "            style=\"display:none;\">\n",
              "\n",
              "<svg xmlns=\"http://www.w3.org/2000/svg\" height=\"24px\"viewBox=\"0 0 24 24\"\n",
              "     width=\"24px\">\n",
              "    <g>\n",
              "        <path d=\"M19 3H5c-1.1 0-2 .9-2 2v14c0 1.1.9 2 2 2h14c1.1 0 2-.9 2-2V5c0-1.1-.9-2-2-2zM9 17H7v-7h2v7zm4 0h-2V7h2v10zm4 0h-2v-4h2v4z\"/>\n",
              "    </g>\n",
              "</svg>\n",
              "  </button>\n",
              "\n",
              "<style>\n",
              "  .colab-df-quickchart {\n",
              "      --bg-color: #E8F0FE;\n",
              "      --fill-color: #1967D2;\n",
              "      --hover-bg-color: #E2EBFA;\n",
              "      --hover-fill-color: #174EA6;\n",
              "      --disabled-fill-color: #AAA;\n",
              "      --disabled-bg-color: #DDD;\n",
              "  }\n",
              "\n",
              "  [theme=dark] .colab-df-quickchart {\n",
              "      --bg-color: #3B4455;\n",
              "      --fill-color: #D2E3FC;\n",
              "      --hover-bg-color: #434B5C;\n",
              "      --hover-fill-color: #FFFFFF;\n",
              "      --disabled-bg-color: #3B4455;\n",
              "      --disabled-fill-color: #666;\n",
              "  }\n",
              "\n",
              "  .colab-df-quickchart {\n",
              "    background-color: var(--bg-color);\n",
              "    border: none;\n",
              "    border-radius: 50%;\n",
              "    cursor: pointer;\n",
              "    display: none;\n",
              "    fill: var(--fill-color);\n",
              "    height: 32px;\n",
              "    padding: 0;\n",
              "    width: 32px;\n",
              "  }\n",
              "\n",
              "  .colab-df-quickchart:hover {\n",
              "    background-color: var(--hover-bg-color);\n",
              "    box-shadow: 0 1px 2px rgba(60, 64, 67, 0.3), 0 1px 3px 1px rgba(60, 64, 67, 0.15);\n",
              "    fill: var(--button-hover-fill-color);\n",
              "  }\n",
              "\n",
              "  .colab-df-quickchart-complete:disabled,\n",
              "  .colab-df-quickchart-complete:disabled:hover {\n",
              "    background-color: var(--disabled-bg-color);\n",
              "    fill: var(--disabled-fill-color);\n",
              "    box-shadow: none;\n",
              "  }\n",
              "\n",
              "  .colab-df-spinner {\n",
              "    border: 2px solid var(--fill-color);\n",
              "    border-color: transparent;\n",
              "    border-bottom-color: var(--fill-color);\n",
              "    animation:\n",
              "      spin 1s steps(1) infinite;\n",
              "  }\n",
              "\n",
              "  @keyframes spin {\n",
              "    0% {\n",
              "      border-color: transparent;\n",
              "      border-bottom-color: var(--fill-color);\n",
              "      border-left-color: var(--fill-color);\n",
              "    }\n",
              "    20% {\n",
              "      border-color: transparent;\n",
              "      border-left-color: var(--fill-color);\n",
              "      border-top-color: var(--fill-color);\n",
              "    }\n",
              "    30% {\n",
              "      border-color: transparent;\n",
              "      border-left-color: var(--fill-color);\n",
              "      border-top-color: var(--fill-color);\n",
              "      border-right-color: var(--fill-color);\n",
              "    }\n",
              "    40% {\n",
              "      border-color: transparent;\n",
              "      border-right-color: var(--fill-color);\n",
              "      border-top-color: var(--fill-color);\n",
              "    }\n",
              "    60% {\n",
              "      border-color: transparent;\n",
              "      border-right-color: var(--fill-color);\n",
              "    }\n",
              "    80% {\n",
              "      border-color: transparent;\n",
              "      border-right-color: var(--fill-color);\n",
              "      border-bottom-color: var(--fill-color);\n",
              "    }\n",
              "    90% {\n",
              "      border-color: transparent;\n",
              "      border-bottom-color: var(--fill-color);\n",
              "    }\n",
              "  }\n",
              "</style>\n",
              "\n",
              "  <script>\n",
              "    async function quickchart(key) {\n",
              "      const quickchartButtonEl =\n",
              "        document.querySelector('#' + key + ' button');\n",
              "      quickchartButtonEl.disabled = true;  // To prevent multiple clicks.\n",
              "      quickchartButtonEl.classList.add('colab-df-spinner');\n",
              "      try {\n",
              "        const charts = await google.colab.kernel.invokeFunction(\n",
              "            'suggestCharts', [key], {});\n",
              "      } catch (error) {\n",
              "        console.error('Error during call to suggestCharts:', error);\n",
              "      }\n",
              "      quickchartButtonEl.classList.remove('colab-df-spinner');\n",
              "      quickchartButtonEl.classList.add('colab-df-quickchart-complete');\n",
              "    }\n",
              "    (() => {\n",
              "      let quickchartButtonEl =\n",
              "        document.querySelector('#df-749d2d8a-1c33-45e6-85c6-ef49158f5f2a button');\n",
              "      quickchartButtonEl.style.display =\n",
              "        google.colab.kernel.accessAllowed ? 'block' : 'none';\n",
              "    })();\n",
              "  </script>\n",
              "</div>\n",
              "    </div>\n",
              "  </div>\n"
            ],
            "application/vnd.google.colaboratory.intrinsic+json": {
              "type": "dataframe",
              "summary": "{\n  \"name\": \"table_metrics (groups, groups_add, active_studs, checks)\",\n  \"rows\": 2,\n  \"fields\": [\n    {\n      \"column\": \"grp\",\n      \"properties\": {\n        \"dtype\": \"string\",\n        \"num_unique_values\": 2,\n        \"samples\": [\n          \"B\",\n          \"A\"\n        ],\n        \"semantic_type\": \"\",\n        \"description\": \"\"\n      }\n    },\n    {\n      \"column\": \"n_of_students\",\n      \"properties\": {\n        \"dtype\": \"number\",\n        \"std\": 31954,\n        \"min\": 14693,\n        \"max\": 59883,\n        \"num_unique_values\": 2,\n        \"samples\": [\n          59883,\n          14693\n        ],\n        \"semantic_type\": \"\",\n        \"description\": \"\"\n      }\n    },\n    {\n      \"column\": \"active_students\",\n      \"properties\": {\n        \"dtype\": \"number\",\n        \"std\": 3722.917202947173,\n        \"min\": 1538.0,\n        \"max\": 6803.0,\n        \"num_unique_values\": 2,\n        \"samples\": [\n          6803.0,\n          1538.0\n        ],\n        \"semantic_type\": \"\",\n        \"description\": \"\"\n      }\n    },\n    {\n      \"column\": \"n_of_payments\",\n      \"properties\": {\n        \"dtype\": \"number\",\n        \"std\": 231.22391744800103,\n        \"min\": 107.0,\n        \"max\": 434.0,\n        \"num_unique_values\": 2,\n        \"samples\": [\n          434.0,\n          107.0\n        ],\n        \"semantic_type\": \"\",\n        \"description\": \"\"\n      }\n    },\n    {\n      \"column\": \"sum_of_payments\",\n      \"properties\": {\n        \"dtype\": \"number\",\n        \"std\": 275159.2927358304,\n        \"min\": 92096.0,\n        \"max\": 481230.0036,\n        \"num_unique_values\": 2,\n        \"samples\": [\n          481230.0036,\n          92096.0\n        ],\n        \"semantic_type\": \"\",\n        \"description\": \"\"\n      }\n    },\n    {\n      \"column\": \"ARPPU\",\n      \"properties\": {\n        \"dtype\": \"number\",\n        \"std\": 229.30765807098555,\n        \"min\": 933.59,\n        \"max\": 1257.88,\n        \"num_unique_values\": 2,\n        \"samples\": [\n          1257.88,\n          933.59\n        ],\n        \"semantic_type\": \"\",\n        \"description\": \"\"\n      }\n    },\n    {\n      \"column\": \"AOV\",\n      \"properties\": {\n        \"dtype\": \"number\",\n        \"std\": 229.30765807098555,\n        \"min\": 933.59,\n        \"max\": 1257.88,\n        \"num_unique_values\": 2,\n        \"samples\": [\n          1257.88,\n          933.59\n        ],\n        \"semantic_type\": \"\",\n        \"description\": \"\"\n      }\n    },\n    {\n      \"column\": \"ARPU\",\n      \"properties\": {\n        \"dtype\": \"number\",\n        \"std\": 7.573113626507924,\n        \"min\": 47.35,\n        \"max\": 58.06,\n        \"num_unique_values\": 2,\n        \"samples\": [\n          58.06,\n          47.35\n        ],\n        \"semantic_type\": \"\",\n        \"description\": \"\"\n      }\n    },\n    {\n      \"column\": \"CR\",\n      \"properties\": {\n        \"dtype\": \"number\",\n        \"std\": 0.3181980515339465,\n        \"min\": 4.62,\n        \"max\": 5.07,\n        \"num_unique_values\": 2,\n        \"samples\": [\n          4.62,\n          5.07\n        ],\n        \"semantic_type\": \"\",\n        \"description\": \"\"\n      }\n    }\n  ]\n}"
            }
          },
          "metadata": {},
          "execution_count": 18
        }
      ],
      "source": [
        "table_metrics (groups, groups_add, active_studs, checks)"
      ]
    },
    {
      "cell_type": "markdown",
      "metadata": {
        "id": "tmQkNJ0Pqyam"
      },
      "source": [
        "##3. Функция для визуализации полученных метрик"
      ]
    },
    {
      "cell_type": "markdown",
      "metadata": {
        "id": "tBOoueTEqyam"
      },
      "source": [
        "- Функция получает на вход таблицу с необходимыми метриками\n",
        "- Создаем график из 8 подграфиков (2 строки, 4 столбца)\n",
        "- Задаем название графика\n",
        "- По координатам создаем каждый из подграфиков, задаем цвета и заголовки\n",
        "- Возвращаем график, состоящий из 8 подграфиков"
      ]
    },
    {
      "cell_type": "code",
      "execution_count": 19,
      "metadata": {
        "id": "v66s_nPBqyam"
      },
      "outputs": [],
      "source": [
        "def vizualization(df):\n",
        "    fig, axs = plt.subplots(2, 4, figsize=(20, 12))\n",
        "    fig.suptitle('Metrics', fontsize=15, fontweight = 'bold')\n",
        "\n",
        "    axs[0, 0].bar(df.grp, df.n_of_students, color = ['lightgreen', 'dodgerblue'])\n",
        "    axs[0, 0].set_title('n_of_students \\n')\n",
        "\n",
        "    axs[0, 1].bar(df.grp, df.active_students, color = ['lightgreen', 'dodgerblue'])\n",
        "    axs[0, 1].set_title('active_students \\n')\n",
        "\n",
        "    axs[0, 2].bar(df.grp, df.n_of_payments, color = ['lightgreen', 'dodgerblue'])\n",
        "    axs[0, 2].set_title('n_of_payments \\n')\n",
        "\n",
        "    axs[0, 3].bar(df.grp, df.sum_of_payments, color = ['lightgreen', 'dodgerblue'])\n",
        "    axs[0, 3].set_title('sum_of_payments \\n')\n",
        "\n",
        "    axs[1, 0].bar(df.grp, df.CR, color = ['lightgreen', 'dodgerblue'])\n",
        "    axs[1, 0].set_title('\\n CR \\n')\n",
        "\n",
        "    axs[1, 1].bar(df.grp, df.AOV, color = ['lightgreen', 'dodgerblue'])\n",
        "    axs[1, 1].set_title('AOV \\n')\n",
        "\n",
        "    axs[1, 2].bar(df.grp, df.ARPU, color = ['lightgreen', 'dodgerblue'])\n",
        "    axs[1, 2].set_title('ARPU \\n')\n",
        "\n",
        "    axs[1, 3].bar(df.grp, df.ARPPU, color = ['lightgreen', 'dodgerblue'])\n",
        "    axs[1, 3].set_title('ARPPU \\n')\n",
        "\n",
        "    plt.show()"
      ]
    },
    {
      "cell_type": "code",
      "execution_count": 20,
      "metadata": {
        "colab": {
          "base_uri": "https://localhost:8080/",
          "height": 536
        },
        "id": "EUq7Dth0qyam",
        "outputId": "03a003f3-ee5d-4977-a183-3c7429b999f5"
      },
      "outputs": [
        {
          "output_type": "display_data",
          "data": {
            "text/plain": [
              "<Figure size 2000x1200 with 8 Axes>"
            ],
            "image/png": "[encoded data removed]"
          },
          "metadata": {}
        }
      ],
      "source": [
        "vizualization(table_metrics (groups, groups_add, active_studs, checks))"
      ]
    }
  ],
  "metadata": {
    "kernelspec": {
      "display_name": "Python 3",
      "language": "python",
      "name": "python3"
    },
    "language_info": {
      "codemirror_mode": {
        "name": "ipython",
        "version": 3
      },
      "file_extension": ".py",
      "mimetype": "text/x-python",
      "name": "python",
      "nbconvert_exporter": "python",
      "pygments_lexer": "ipython3",
      "version": "3.7.3"
    },
    "colab": {
      "provenance": []
    }
  },
  "nbformat": 4,
  "nbformat_minor": 0
}